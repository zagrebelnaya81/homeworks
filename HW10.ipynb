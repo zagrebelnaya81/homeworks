{
  "nbformat": 4,
  "nbformat_minor": 0,
  "metadata": {
    "colab": {
      "provenance": []
    },
    "kernelspec": {
      "name": "python3",
      "display_name": "Python 3"
    },
    "language_info": {
      "name": "python"
    }
  },
  "cells": [
    {
      "cell_type": "code",
      "execution_count": null,
      "metadata": {
        "id": "gua3g-1peHue"
      },
      "outputs": [],
      "source": [
        "import pandas as pd\n",
        "import numpy as np\n",
        "from __future__ import print_function, division\n",
        "import sklearn.svm as svm\n",
        "\n",
        "import numpy as np\n",
        "import matplotlib.pyplot as plt\n",
        "from sklearn.datasets import load_digits\n",
        "from sklearn.model_selection import GridSearchCV\n",
        "from sklearn.pipeline import Pipeline\n",
        "from sklearn.svm import LinearSVC, SVC\n",
        "from sklearn.decomposition import PCA, NMF\n",
        "from sklearn.feature_selection import SelectKBest, chi2\n",
        "from sklearn.model_selection import train_test_split\n",
        "from sklearn.preprocessing import MinMaxScaler\n",
        "from sklearn.metrics import accuracy_score\n",
        "from sklearn.metrics import confusion_matrix\n",
        "from sklearn.metrics import classification_report"
      ]
    },
    {
      "cell_type": "code",
      "source": [
        "digits = load_digits()\n",
        "print(digits.data)"
      ],
      "metadata": {
        "colab": {
          "base_uri": "https://localhost:8080/"
        },
        "id": "eLnAbT0aeSvN",
        "outputId": "3bbbec7c-668e-42f6-cc75-b648d541c276"
      },
      "execution_count": null,
      "outputs": [
        {
          "output_type": "stream",
          "name": "stdout",
          "text": [
            "[[ 0.  0.  5. ...  0.  0.  0.]\n",
            " [ 0.  0.  0. ... 10.  0.  0.]\n",
            " [ 0.  0.  0. ... 16.  9.  0.]\n",
            " ...\n",
            " [ 0.  0.  1. ...  6.  0.  0.]\n",
            " [ 0.  0.  2. ... 12.  0.  0.]\n",
            " [ 0.  0. 10. ... 12.  1.  0.]]\n"
          ]
        }
      ]
    },
    {
      "cell_type": "code",
      "source": [
        "plt.gray()\n",
        "plt.matshow(digits.images[0])\n",
        "plt.show()"
      ],
      "metadata": {
        "colab": {
          "base_uri": "https://localhost:8080/",
          "height": 454
        },
        "id": "auP4a74f_4J0",
        "outputId": "a6a5cf9f-f849-4f45-d742-b74ad7ae2508"
      },
      "execution_count": null,
      "outputs": [
        {
          "output_type": "display_data",
          "data": {
            "text/plain": [
              "<Figure size 640x480 with 0 Axes>"
            ]
          },
          "metadata": {}
        },
        {
          "output_type": "display_data",
          "data": {
            "text/plain": [
              "<Figure size 480x480 with 1 Axes>"
            ],
            "image/png": "[encoded data removed]"
          },
          "metadata": {}
        }
      ]
    },
    {
      "cell_type": "code",
      "source": [
        "clf = svm.SVC(gamma=0.001, C=100.)\n",
        "# split the data to train and test sets\n",
        "X_train, X_test, y_train, y_test = train_test_split(digits.data, digits.target, test_size=0.2, random_state=2017)\n",
        "# fit the classifier with train data\n",
        "clf.fit(X_train, y_train)\n",
        "pred = clf.predict(X_test)\n",
        "print(classification_report(y_test, pred))\n",
        "print(accuracy_score(y_test, pred))"
      ],
      "metadata": {
        "colab": {
          "base_uri": "https://localhost:8080/"
        },
        "id": "nFqwPHtU0U7B",
        "outputId": "6cbafd60-2236-4d60-f754-217da27bd8fe"
      },
      "execution_count": null,
      "outputs": [
        {
          "output_type": "stream",
          "name": "stdout",
          "text": [
            "              precision    recall  f1-score   support\n",
            "\n",
            "           0       1.00      1.00      1.00        34\n",
            "           1       0.98      1.00      0.99        41\n",
            "           2       1.00      1.00      1.00        45\n",
            "           3       1.00      1.00      1.00        26\n",
            "           4       1.00      1.00      1.00        32\n",
            "           5       1.00      0.98      0.99        46\n",
            "           6       1.00      1.00      1.00        29\n",
            "           7       1.00      1.00      1.00        42\n",
            "           8       1.00      0.97      0.99        35\n",
            "           9       0.97      1.00      0.98        30\n",
            "\n",
            "    accuracy                           0.99       360\n",
            "   macro avg       0.99      0.99      0.99       360\n",
            "weighted avg       0.99      0.99      0.99       360\n",
            "\n",
            "0.9944444444444445\n"
          ]
        }
      ]
    },
    {
      "cell_type": "markdown",
      "source": [
        "применяю модель svm.SVC с параметрами gamma=0.001, C=100.\n",
        "Скор высокий 0,99\n",
        "Гиперпараметр  используется для настройки чувствительности к различиям в векторах признаков, которая, в свою очередь, зависит от различных вещей, таких как размерность входного пространства и нормализация признаков.\n",
        "Если увеличивать до gamma=0.01\n",
        "Скор будет падать\n"
      ],
      "metadata": {
        "id": "tWXJRjhNHA4v"
      }
    },
    {
      "cell_type": "code",
      "source": [
        "param_grid = {'C': [1, 10, 100, 1000]}\n",
        "grid = GridSearchCV(LinearSVC(dual=False, max_iter=1000), param_grid, cv=5)\n",
        "grid.fit(X_train, y_train)\n",
        "print(\"Best cross-validation score: {:.2f}\".format(grid.best_score_))\n",
        "print(\"Best parameters: \", grid.best_params_)"
      ],
      "metadata": {
        "colab": {
          "base_uri": "https://localhost:8080/"
        },
        "id": "Ln7LB06-aPjB",
        "outputId": "b8e34229-06f4-40cb-ef8f-58d53d4c42d2"
      },
      "execution_count": null,
      "outputs": [
        {
          "output_type": "stream",
          "name": "stdout",
          "text": [
            "Best cross-validation score: 0.94\n",
            "Best parameters:  {'C': 1}\n"
          ]
        },
        {
          "output_type": "stream",
          "name": "stderr",
          "text": [
            "/usr/local/lib/python3.10/dist-packages/sklearn/svm/_base.py:1244: ConvergenceWarning: Liblinear failed to converge, increase the number of iterations.\n",
            "  warnings.warn(\n"
          ]
        }
      ]
    },
    {
      "cell_type": "code",
      "source": [],
      "metadata": {
        "id": "4B2njyupaxgM"
      },
      "execution_count": null,
      "outputs": []
    },
    {
      "cell_type": "markdown",
      "source": [
        "Теперь попробуем использовать GridSearchCV с Pipeline .\n",
        "Создаем конвейер, который выполняет уменьшение размерности с последующим\n",
        "прогнозированием с помощью классификатора опорных векторов.\n",
        "Создаем Pipeline используя LinearSVC\n",
        "\n",
        "\n"
      ],
      "metadata": {
        "id": "Xbv4r6QHqaEa"
      }
    },
    {
      "cell_type": "code",
      "source": [
        "\n",
        "pipe = Pipeline([\n",
        "    (\"scaling\", MinMaxScaler()),\n",
        "    ('reduce_dim', PCA()),\n",
        "    ('classify', LinearSVC(dual=False, max_iter=1000))\n",
        "])"
      ],
      "metadata": {
        "id": "6dkZKG6-nu2H"
      },
      "execution_count": null,
      "outputs": []
    },
    {
      "cell_type": "markdown",
      "source": [
        "Параметры GridSearchCV:\n",
        "param_grid — передаем какие параметры хотим подбирать\n",
        "\n",
        "cv — сколько разрезов кросс-валидации мы ходим сделать; =3"
      ],
      "metadata": {
        "id": "ELjXPuxptMQq"
      }
    },
    {
      "cell_type": "code",
      "source": [
        "N_FEATURES_OPTIONS = [2,4,8]\n",
        "C_OPTIONS = [1, 10, 100, 1000]\n",
        "param_grid = [\n",
        "    {\n",
        "        'reduce_dim': [PCA(iterated_power=7), NMF()],\n",
        "        'reduce_dim__n_components': N_FEATURES_OPTIONS,\n",
        "        'classify__C': C_OPTIONS\n",
        "    },\n",
        "    {\n",
        "        'reduce_dim': [SelectKBest(chi2)],\n",
        "        'reduce_dim__k': N_FEATURES_OPTIONS,\n",
        "        'classify__C': C_OPTIONS\n",
        "    },\n",
        "]\n",
        "reducer_labels = ['PCA', 'NMF', 'KBest(chi2)']"
      ],
      "metadata": {
        "id": "vLjLqO9on-pk"
      },
      "execution_count": null,
      "outputs": []
    },
    {
      "cell_type": "code",
      "source": [
        "grid = GridSearchCV(pipe, cv=3, n_jobs=2, param_grid=param_grid)\n",
        "grid.fit(digits.data, digits.target)"
      ],
      "metadata": {
        "id": "HKapBjmYoXOO",
        "colab": {
          "base_uri": "https://localhost:8080/",
          "height": 185
        },
        "outputId": "f49565a0-280d-4700-b014-453bcd562206"
      },
      "execution_count": null,
      "outputs": [
        {
          "output_type": "execute_result",
          "data": {
            "text/plain": [
              "GridSearchCV(cv=3,\n",
              "             estimator=Pipeline(steps=[('scaling', MinMaxScaler()),\n",
              "                                       ('reduce_dim', PCA()),\n",
              "                                       ('classify', LinearSVC(dual=False))]),\n",
              "             n_jobs=2,\n",
              "             param_grid=[{'classify__C': [1, 10, 100, 1000],\n",
              "                          'reduce_dim': [PCA(iterated_power=7, n_components=8),\n",
              "                                         NMF()],\n",
              "                          'reduce_dim__n_components': [2, 4, 8]},\n",
              "                         {'classify__C': [1, 10, 100, 1000],\n",
              "                          'reduce_dim': [SelectKBest(score_func=<function chi2 at 0x7e25e2793400>)],\n",
              "                          'reduce_dim__k': [2, 4, 8]}])"
            ],
            "text/html": [
              "<style>#sk-container-id-12 {color: black;background-color: white;}#sk-container-id-12 pre{padding: 0;}#sk-container-id-12 div.sk-toggleable {background-color: white;}#sk-container-id-12 label.sk-toggleable__label {cursor: pointer;display: block;width: 100%;margin-bottom: 0;padding: 0.3em;box-sizing: border-box;text-align: center;}#sk-container-id-12 label.sk-toggleable__label-arrow:before {content: \"▸\";float: left;margin-right: 0.25em;color: #696969;}#sk-container-id-12 label.sk-toggleable__label-arrow:hover:before {color: black;}#sk-container-id-12 div.sk-estimator:hover label.sk-toggleable__label-arrow:before {color: black;}#sk-container-id-12 div.sk-toggleable__content {max-height: 0;max-width: 0;overflow: hidden;text-align: left;background-color: #f0f8ff;}#sk-container-id-12 div.sk-toggleable__content pre {margin: 0.2em;color: black;border-radius: 0.25em;background-color: #f0f8ff;}#sk-container-id-12 input.sk-toggleable__control:checked~div.sk-toggleable__content {max-height: 200px;max-width: 100%;overflow: auto;}#sk-container-id-12 input.sk-toggleable__control:checked~label.sk-toggleable__label-arrow:before {content: \"▾\";}#sk-container-id-12 div.sk-estimator input.sk-toggleable__control:checked~label.sk-toggleable__label {background-color: #d4ebff;}#sk-container-id-12 div.sk-label input.sk-toggleable__control:checked~label.sk-toggleable__label {background-color: #d4ebff;}#sk-container-id-12 input.sk-hidden--visually {border: 0;clip: rect(1px 1px 1px 1px);clip: rect(1px, 1px, 1px, 1px);height: 1px;margin: -1px;overflow: hidden;padding: 0;position: absolute;width: 1px;}#sk-container-id-12 div.sk-estimator {font-family: monospace;background-color: #f0f8ff;border: 1px dotted black;border-radius: 0.25em;box-sizing: border-box;margin-bottom: 0.5em;}#sk-container-id-12 div.sk-estimator:hover {background-color: #d4ebff;}#sk-container-id-12 div.sk-parallel-item::after {content: \"\";width: 100%;border-bottom: 1px solid gray;flex-grow: 1;}#sk-container-id-12 div.sk-label:hover label.sk-toggleable__label {background-color: #d4ebff;}#sk-container-id-12 div.sk-serial::before {content: \"\";position: absolute;border-left: 1px solid gray;box-sizing: border-box;top: 0;bottom: 0;left: 50%;z-index: 0;}#sk-container-id-12 div.sk-serial {display: flex;flex-direction: column;align-items: center;background-color: white;padding-right: 0.2em;padding-left: 0.2em;position: relative;}#sk-container-id-12 div.sk-item {position: relative;z-index: 1;}#sk-container-id-12 div.sk-parallel {display: flex;align-items: stretch;justify-content: center;background-color: white;position: relative;}#sk-container-id-12 div.sk-item::before, #sk-container-id-12 div.sk-parallel-item::before {content: \"\";position: absolute;border-left: 1px solid gray;box-sizing: border-box;top: 0;bottom: 0;left: 50%;z-index: -1;}#sk-container-id-12 div.sk-parallel-item {display: flex;flex-direction: column;z-index: 1;position: relative;background-color: white;}#sk-container-id-12 div.sk-parallel-item:first-child::after {align-self: flex-end;width: 50%;}#sk-container-id-12 div.sk-parallel-item:last-child::after {align-self: flex-start;width: 50%;}#sk-container-id-12 div.sk-parallel-item:only-child::after {width: 0;}#sk-container-id-12 div.sk-dashed-wrapped {border: 1px dashed gray;margin: 0 0.4em 0.5em 0.4em;box-sizing: border-box;padding-bottom: 0.4em;background-color: white;}#sk-container-id-12 div.sk-label label {font-family: monospace;font-weight: bold;display: inline-block;line-height: 1.2em;}#sk-container-id-12 div.sk-label-container {text-align: center;}#sk-container-id-12 div.sk-container {/* jupyter's `normalize.less` sets `[hidden] { display: none; }` but bootstrap.min.css set `[hidden] { display: none !important; }` so we also need the `!important` here to be able to override the default hidden behavior on the sphinx rendered scikit-learn.org. See: https://github.com/scikit-learn/scikit-learn/issues/21755 */display: inline-block !important;position: relative;}#sk-container-id-12 div.sk-text-repr-fallback {display: none;}</style><div id=\"sk-container-id-12\" class=\"sk-top-container\"><div class=\"sk-text-repr-fallback\"><pre>GridSearchCV(cv=3,\n",
              "             estimator=Pipeline(steps=[(&#x27;scaling&#x27;, MinMaxScaler()),\n",
              "                                       (&#x27;reduce_dim&#x27;, PCA()),\n",
              "                                       (&#x27;classify&#x27;, LinearSVC(dual=False))]),\n",
              "             n_jobs=2,\n",
              "             param_grid=[{&#x27;classify__C&#x27;: [1, 10, 100, 1000],\n",
              "                          &#x27;reduce_dim&#x27;: [PCA(iterated_power=7, n_components=8),\n",
              "                                         NMF()],\n",
              "                          &#x27;reduce_dim__n_components&#x27;: [2, 4, 8]},\n",
              "                         {&#x27;classify__C&#x27;: [1, 10, 100, 1000],\n",
              "                          &#x27;reduce_dim&#x27;: [SelectKBest(score_func=&lt;function chi2 at 0x7e25e2793400&gt;)],\n",
              "                          &#x27;reduce_dim__k&#x27;: [2, 4, 8]}])</pre><b>In a Jupyter environment, please rerun this cell to show the HTML representation or trust the notebook. <br />On GitHub, the HTML representation is unable to render, please try loading this page with nbviewer.org.</b></div><div class=\"sk-container\" hidden><div class=\"sk-item sk-dashed-wrapped\"><div class=\"sk-label-container\"><div class=\"sk-label sk-toggleable\"><input class=\"sk-toggleable__control sk-hidden--visually\" id=\"sk-estimator-id-50\" type=\"checkbox\" ><label for=\"sk-estimator-id-50\" class=\"sk-toggleable__label sk-toggleable__label-arrow\">GridSearchCV</label><div class=\"sk-toggleable__content\"><pre>GridSearchCV(cv=3,\n",
              "             estimator=Pipeline(steps=[(&#x27;scaling&#x27;, MinMaxScaler()),\n",
              "                                       (&#x27;reduce_dim&#x27;, PCA()),\n",
              "                                       (&#x27;classify&#x27;, LinearSVC(dual=False))]),\n",
              "             n_jobs=2,\n",
              "             param_grid=[{&#x27;classify__C&#x27;: [1, 10, 100, 1000],\n",
              "                          &#x27;reduce_dim&#x27;: [PCA(iterated_power=7, n_components=8),\n",
              "                                         NMF()],\n",
              "                          &#x27;reduce_dim__n_components&#x27;: [2, 4, 8]},\n",
              "                         {&#x27;classify__C&#x27;: [1, 10, 100, 1000],\n",
              "                          &#x27;reduce_dim&#x27;: [SelectKBest(score_func=&lt;function chi2 at 0x7e25e2793400&gt;)],\n",
              "                          &#x27;reduce_dim__k&#x27;: [2, 4, 8]}])</pre></div></div></div><div class=\"sk-parallel\"><div class=\"sk-parallel-item\"><div class=\"sk-item\"><div class=\"sk-label-container\"><div class=\"sk-label sk-toggleable\"><input class=\"sk-toggleable__control sk-hidden--visually\" id=\"sk-estimator-id-51\" type=\"checkbox\" ><label for=\"sk-estimator-id-51\" class=\"sk-toggleable__label sk-toggleable__label-arrow\">estimator: Pipeline</label><div class=\"sk-toggleable__content\"><pre>Pipeline(steps=[(&#x27;scaling&#x27;, MinMaxScaler()), (&#x27;reduce_dim&#x27;, PCA()),\n",
              "                (&#x27;classify&#x27;, LinearSVC(dual=False))])</pre></div></div></div><div class=\"sk-serial\"><div class=\"sk-item\"><div class=\"sk-serial\"><div class=\"sk-item\"><div class=\"sk-estimator sk-toggleable\"><input class=\"sk-toggleable__control sk-hidden--visually\" id=\"sk-estimator-id-52\" type=\"checkbox\" ><label for=\"sk-estimator-id-52\" class=\"sk-toggleable__label sk-toggleable__label-arrow\">MinMaxScaler</label><div class=\"sk-toggleable__content\"><pre>MinMaxScaler()</pre></div></div></div><div class=\"sk-item\"><div class=\"sk-estimator sk-toggleable\"><input class=\"sk-toggleable__control sk-hidden--visually\" id=\"sk-estimator-id-53\" type=\"checkbox\" ><label for=\"sk-estimator-id-53\" class=\"sk-toggleable__label sk-toggleable__label-arrow\">PCA</label><div class=\"sk-toggleable__content\"><pre>PCA()</pre></div></div></div><div class=\"sk-item\"><div class=\"sk-estimator sk-toggleable\"><input class=\"sk-toggleable__control sk-hidden--visually\" id=\"sk-estimator-id-54\" type=\"checkbox\" ><label for=\"sk-estimator-id-54\" class=\"sk-toggleable__label sk-toggleable__label-arrow\">LinearSVC</label><div class=\"sk-toggleable__content\"><pre>LinearSVC(dual=False)</pre></div></div></div></div></div></div></div></div></div></div></div></div>"
            ]
          },
          "metadata": {},
          "execution_count": 131
        }
      ]
    },
    {
      "cell_type": "code",
      "source": [
        "mean_scores = np.array(grid.cv_results_['mean_test_score'])\n",
        "mean_scores"
      ],
      "metadata": {
        "colab": {
          "base_uri": "https://localhost:8080/"
        },
        "id": "ZCn65UOFo45_",
        "outputId": "bd154653-88bd-40ed-b881-a87506b83e81"
      },
      "execution_count": null,
      "outputs": [
        {
          "output_type": "execute_result",
          "data": {
            "text/plain": [
              "array([0.52031163, 0.74791319, 0.85698386, 0.30383973, 0.63995548,\n",
              "       0.79966611, 0.52309405, 0.74902615, 0.8558709 , 0.31552588,\n",
              "       0.65386756, 0.8196995 , 0.52309405, 0.74846967, 0.85308848,\n",
              "       0.31608236, 0.64997218, 0.82415136, 0.52309405, 0.74846967,\n",
              "       0.85308848, 0.31719533, 0.64774624, 0.82192543, 0.32721202,\n",
              "       0.5180857 , 0.70617696, 0.32888147, 0.52698943, 0.71229827,\n",
              "       0.32888147, 0.52587646, 0.71062883, 0.32888147, 0.52587646,\n",
              "       0.71007234])"
            ]
          },
          "metadata": {},
          "execution_count": 132
        }
      ]
    },
    {
      "cell_type": "code",
      "source": [
        "mean_scores = mean_scores.reshape(len(C_OPTIONS), -1, len(N_FEATURES_OPTIONS))\n",
        "mean_scores"
      ],
      "metadata": {
        "colab": {
          "base_uri": "https://localhost:8080/"
        },
        "id": "Elg_PfBppOXY",
        "outputId": "8490cc2c-60b6-4a1f-c2f9-70265a1ca595"
      },
      "execution_count": null,
      "outputs": [
        {
          "output_type": "execute_result",
          "data": {
            "text/plain": [
              "array([[[0.52031163, 0.74791319, 0.85698386],\n",
              "        [0.30383973, 0.63995548, 0.79966611],\n",
              "        [0.52309405, 0.74902615, 0.8558709 ]],\n",
              "\n",
              "       [[0.31552588, 0.65386756, 0.8196995 ],\n",
              "        [0.52309405, 0.74846967, 0.85308848],\n",
              "        [0.31608236, 0.64997218, 0.82415136]],\n",
              "\n",
              "       [[0.52309405, 0.74846967, 0.85308848],\n",
              "        [0.31719533, 0.64774624, 0.82192543],\n",
              "        [0.32721202, 0.5180857 , 0.70617696]],\n",
              "\n",
              "       [[0.32888147, 0.52698943, 0.71229827],\n",
              "        [0.32888147, 0.52587646, 0.71062883],\n",
              "        [0.32888147, 0.52587646, 0.71007234]]])"
            ]
          },
          "metadata": {},
          "execution_count": 133
        }
      ]
    },
    {
      "cell_type": "markdown",
      "source": [
        "Выбираем лучшие средние скоры"
      ],
      "metadata": {
        "id": "4ey_z3tjpjOy"
      }
    },
    {
      "cell_type": "code",
      "source": [
        "mean_scores = mean_scores.max(axis=0)\n",
        "mean_scores"
      ],
      "metadata": {
        "colab": {
          "base_uri": "https://localhost:8080/"
        },
        "id": "tk458cr1ppXy",
        "outputId": "73de0207-470a-4000-cc26-f6e2712f4f3b"
      },
      "execution_count": null,
      "outputs": [
        {
          "output_type": "execute_result",
          "data": {
            "text/plain": [
              "array([[0.52309405, 0.74846967, 0.85698386],\n",
              "       [0.52309405, 0.74846967, 0.85308848],\n",
              "       [0.52309405, 0.74902615, 0.8558709 ]])"
            ]
          },
          "metadata": {},
          "execution_count": 134
        }
      ]
    },
    {
      "cell_type": "code",
      "source": [
        "bar_offsets = (np.arange(len(N_FEATURES_OPTIONS)) *\n",
        "               (len(reducer_labels) + 1) + .5)\n",
        "\n",
        "plt.figure()\n",
        "COLORS = 'bgrcmyk'\n",
        "for i, (label, reducer_scores) in enumerate(zip(reducer_labels, mean_scores)):\n",
        "    plt.bar(bar_offsets + i, reducer_scores, label=label, color=COLORS[i])\n",
        "\n",
        "plt.title(\"Comparing feature reduction techniques\")\n",
        "plt.xlabel('Reduced number of features')\n",
        "plt.xticks(bar_offsets + len(reducer_labels) / 2, N_FEATURES_OPTIONS)\n",
        "plt.ylabel('classification accuracy')\n",
        "plt.ylim((0, 1))\n",
        "plt.legend(loc='upper left')\n",
        "plt.show()"
      ],
      "metadata": {
        "colab": {
          "base_uri": "https://localhost:8080/",
          "height": 472
        },
        "id": "ZWCAmli-p2Lf",
        "outputId": "9ec70699-a477-47b9-a2f3-ebf1e6851365"
      },
      "execution_count": null,
      "outputs": [
        {
          "output_type": "display_data",
          "data": {
            "text/plain": [
              "<Figure size 640x480 with 1 Axes>"
            ],
            "image/png": "[encoded data removed]"
          },
          "metadata": {}
        }
      ]
    },
    {
      "cell_type": "markdown",
      "source": [
        "Видно что с уменьшением количества выбраных фич точность классификации будет снижаться"
      ],
      "metadata": {
        "id": "s5JjuAXDZFah"
      }
    }
  ]
}